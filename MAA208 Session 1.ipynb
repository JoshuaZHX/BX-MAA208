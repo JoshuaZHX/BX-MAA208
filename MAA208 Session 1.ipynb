{
 "cells": [
  {
   "cell_type": "markdown",
   "metadata": {},
   "source": [
    "# Determinant and inverse"
   ]
  },
  {
   "cell_type": "code",
   "execution_count": 1,
   "metadata": {},
   "outputs": [],
   "source": [
    "# load packages\n",
    "import numpy as np\n",
    "import matplotlib.pyplot as plt\n",
    "import time"
   ]
  },
  {
   "cell_type": "markdown",
   "metadata": {},
   "source": [
    "In this implementation exercice, a very naive and brute method for the computation of determinants and inverse is constructed. The objective is to observe <b>WHAT YOU SHOULD NEVER DO</b>, and smarter alternatives will be exhibited in the next lectures and tutorials."
   ]
  },
  {
   "cell_type": "markdown",
   "metadata": {},
   "source": [
    "## Determinant of a 2$\\times$2 matrix"
   ]
  },
  {
   "cell_type": "markdown",
   "metadata": {},
   "source": [
    "1) Recall the formula of the determinant of a 2$\\times$2 matrix $$A = \\left(\\begin{array}{cc} a & b \\\\ c & d\\end{array}\\right).$$ How many operations are performed?"
   ]
  },
  {
   "cell_type": "markdown",
   "metadata": {},
   "source": [
    "<i>Answer:</i> \n",
    "3 operations in total. 2 multiplications and 1 addition. "
   ]
  },
  {
   "cell_type": "markdown",
   "metadata": {},
   "source": [
    "2) Implement a function that takes a $2\\times2$ matrix in entry and returns its determinant using this formula. \n",
    "\n",
    "Test your algorithm with the provided matrix and verify the value you otain."
   ]
  },
  {
   "cell_type": "code",
   "execution_count": 2,
   "metadata": {},
   "outputs": [
    {
     "name": "stdout",
     "output_type": "stream",
     "text": [
      "det(B) =  -2\n"
     ]
    }
   ],
   "source": [
    "def det_22(A):\n",
    "    ### write your formula\n",
    "    det = 0 \n",
    "    det = A[0,0]*A[1,1] - A[1,0]*A[0,1] \n",
    "    return det\n",
    "\n",
    "#Test this function\n",
    "B     = np.array([[1,2],[3,4]])\n",
    "det_B = det_22(B)\n",
    "print(\"det(B) = \", det_B)"
   ]
  },
  {
   "cell_type": "markdown",
   "metadata": {},
   "source": [
    "## Determinant of a 3$\\times$3 matrix"
   ]
  },
  {
   "cell_type": "markdown",
   "metadata": {},
   "source": [
    "3) Using Laplace expansion with respect to the first row, recall the determinant of the matrix $$A = \\left(\\begin{array}{ccc} a & b & c \\\\ d & e & f \\\\ g & h & i\\end{array}\\right), $$\n",
    "as a function of the vector $(a,b,c)$ and of determinants of $2\\times2$ matrices."
   ]
  },
  {
   "cell_type": "markdown",
   "metadata": {},
   "source": [
    "<i>Answer:</i> \n",
    "a(ei-hf) - d(bi-hc) + g(bf-ec) "
   ]
  },
  {
   "cell_type": "markdown",
   "metadata": {},
   "source": [
    "4) How many operations are required for: \n",
    "- the computation of the full determinant, knowing the vector $(a,b,c)$ and all the determinants of the $2\\times2$ matrices \n",
    "- the computation of all the determinants of the $2\\times2$ matrices \n",
    "- then the computation of the full determinant, knowing only $A$"
   ]
  },
  {
   "cell_type": "markdown",
   "metadata": {},
   "source": [
    "<i>Answer:</i> \n",
    "- 5: 3 multiplications + 2 additions. \n",
    "- 9: Since computing one $2\\times2$ matrix's determinant requires 3 operations, computing three of them requires 9 operations. \n",
    "- 14: Summing all operations, we obtain that 5 + 9 = 14. "
   ]
  },
  {
   "cell_type": "markdown",
   "metadata": {},
   "source": [
    "5) Implement a function that takes such a $3\\times3$ matrix in entry and returns its determinant using this formula. \n",
    "\n",
    "<i><b>Indications:</b></i><ul> \n",
    "    <li>You should use the function \"det_22\" you coded before.</li>\n",
    "    <li>You may use the function \"delete\" of numpy, e.g. delete(B, j, 0) returns the matrix B without the j-th row, delete(B, j, 1) returns the matrix B without its j-th column.</li>\n",
    "</ul>\n",
    "\n",
    "Test your algorithm with the provided matrix and verify the value you obtain. "
   ]
  },
  {
   "cell_type": "code",
   "execution_count": 12,
   "metadata": {},
   "outputs": [
    {
     "name": "stdout",
     "output_type": "stream",
     "text": [
      "det(B1) =  0\n",
      "det(B2) =  3\n"
     ]
    }
   ],
   "source": [
    "def wtf(B,i): \n",
    "    p = B.copy()\n",
    "    p = np.delete(p,0,1) \n",
    "    p = np.delete(p,i,0) \n",
    "    return p \n",
    "\n",
    "def det_33(A):\n",
    "    ### write your formula\n",
    "    B = A.copy() \n",
    "    det = 0 \n",
    "    for i in range(3): \n",
    "        det += ((-1)**i) * A[i,0] * det_22(wtf(B,i)) \n",
    "    return det\n",
    "\n",
    "\n",
    "#Test this function\n",
    "B_1     = np.array([[1,2,3],[4,5,6],[7,8,9]])\n",
    "det_B_1 = det_33(B_1)\n",
    "print(\"det(B1) = \", det_B_1) \n",
    "\n",
    "B_2     = np.array([[1,0,0],[0,1,6],[0,0,3]])\n",
    "det_B_2 = det_33(B_2)\n",
    "print(\"det(B2) = \", det_B_2)"
   ]
  },
  {
   "cell_type": "markdown",
   "metadata": {},
   "source": [
    "## Determinant of a $N\\times N$ matrix"
   ]
  },
  {
   "cell_type": "markdown",
   "metadata": {},
   "source": [
    "In this section, we will implement a recursive algorithm. This type of algorithms <b>should be avoided</b>, especially in Python. We will exhibit why. <b>Save regularly your notebook</b>."
   ]
  },
  {
   "cell_type": "markdown",
   "metadata": {},
   "source": [
    "6) Using again Laplace expansion with respect to the first row, recall the determinant of the matrix $A \\in \\mathbb{R}^{N\\times N}$ as a function of the vector $V = (A_{1,i})_{i=1,\\dots,N}$ and of determinants of smaller matrices of size $N-1\\times N-1$. "
   ]
  },
  {
   "cell_type": "markdown",
   "metadata": {},
   "source": [
    "<i>Answer</i>: \n",
    "\n",
    "The determinant of a maxtrix A with size $N \\times N$ is \n",
    "\n",
    "$$ \\text{det} (A) = \\sum_{i = 1}^{N} A_{i,1} (-1)^{i+1} \\text{det} (A_{-i, -1}) $$\n"
   ]
  },
  {
   "cell_type": "markdown",
   "metadata": {},
   "source": [
    "7) a) How many operations are required for: <ul>\n",
    "    <li>The computation of the full determinant, knowing the vector $V$ and all the determinants of the smaller matrices as a function $N$.</li>\n",
    "    <li>then for the computation of each determinant of the smaller matrices of size $N-1\\times N-1$ in terms of the $N-2$ step.</li></ul>\n",
    "\n",
    "b) How many determinants of size $N-1\\times N-1$ are necessary? Then of size $N-2\\times N-2$? </li>\n",
    "\n",
    "c) Using a similar iterative sequence, write a formula for the quantity $Q_N$ of operations required for the computation of a determinant of a $N\\times N$ matrix as a function of $Q_{N-1}$ and $N$. Compare this sequence to the sequence $N!$.</li>"
   ]
  },
  {
   "cell_type": "markdown",
   "metadata": {},
   "source": [
    "<i>Answer</i>: a) \n",
    "\n",
    "-- It requires $N - 1$ additions and \n",
    "\n",
    "b) \n",
    "\n",
    "c) "
   ]
  },
  {
   "cell_type": "markdown",
   "metadata": {},
   "source": [
    "8) Using Laplace formula with respect to the first row of $A$, implement a function that takes a matrix $A\\in\\mathbb{R}^{N\\times N}$, and the size $N$ in entry and returns its determinant. <b>Save your code</b> before testing it. \n",
    "\n",
    "<b>Indications:</b><ul>\n",
    "<li>This algorithm should exploit the functions <ul><li>\"det_22\" if $N=2$,</li> <li>or \"det_NN\" itself with a new $N'=N-1$ if $N>2$.</li></ul></li>\n",
    "<li>You may use the function \"delete\" of numpy.</li></ul>\n",
    "\n",
    "<b>Warning:</b> This type of algorithms is called recursive as the function \"det_NN\" is called inside itself. Such methods can be \"dangerous\" for several reasons:<ul> \n",
    "<li>It may create infinite loops if it is badly implemented (missing stopping criterium).</li> \n",
    "<li>It may fill the memory if the loop is too long. Especially, Python stores all the intermediate variables, and the storage increases very fast in the present algorithm.</li></ul>\n",
    "\n",
    "We will illustrate that with a simple example. "
   ]
  },
  {
   "cell_type": "code",
   "execution_count": 13,
   "metadata": {},
   "outputs": [
    {
     "name": "stdout",
     "output_type": "stream",
     "text": [
      "det(B) =  0\n"
     ]
    }
   ],
   "source": [
    "def det_NN(A, N):\n",
    "    ### write your algorithm\n",
    "    det = 0\n",
    "    if (N == 2):\n",
    "        ### return the determinant of a 2x2 matrix\n",
    "        det = 0 \n",
    "        det = det_22(A)\n",
    "        return det\n",
    "    else:       \n",
    "        ### return the determinant of a NxN matrix using Laplace expansion        \n",
    "        det = 0 \n",
    "        B = A.copy()\n",
    "        for i in range(N): \n",
    "            det += ((-1)**i) * A[i,0] * det_NN(wtf(B,i),N-1)  \n",
    "    return det\n",
    "\n",
    "#Test this function\n",
    "B     = np.array([[1,2,3,4],[5,6,7,8],[9,10,11,12],[13,14,15,16]]) \n",
    "det_B = det_NN(B, 4) \n",
    "print(\"det(B) = \", det_B) "
   ]
  },
  {
   "cell_type": "markdown",
   "metadata": {},
   "source": [
    "9) Now copy your algorithm. And add a counter of operations performed for the computation of the determinant. \n",
    "\n",
    "<ul><li>Test your algorithm with the provided $4\\times4$ matrix and verify the obtained number of operations.</li>\n",
    "<li>Test your algorithm with the identity matrices of size $N = 2,...,6$ and plot the number of operations as a function of $N$. Verify the formula of $Q_N$ found at question 7. </li></ul>"
   ]
  },
  {
   "cell_type": "code",
   "execution_count": 18,
   "metadata": {},
   "outputs": [
    {
     "name": "stdout",
     "output_type": "stream",
     "text": [
      "det(B) =  0\n",
      "number of operations =  79\n"
     ]
    }
   ],
   "source": [
    "def det_NN_count(A, N, counter):\n",
    "    ### write your algorithm\n",
    "    B = A.copy()\n",
    "    det = 0\n",
    "    if(N==2):\n",
    "        ### return the determinant of a 2x2 matrix\n",
    "        det      = det_22(A)\n",
    "        # add to counter the number of operations performed at this step \n",
    "        counter += 3\n",
    "        return det, counter\n",
    "    else:       \n",
    "        ### returns the determinant of a NxN matrix using Laplace expansion\n",
    "        for i in range(N): \n",
    "            det_min, counter = det_NN_count(wtf(B,i),N-1,counter) \n",
    "            det              += ((-1)**i) * A[i,0] * det_min \n",
    "            counter          += 3\n",
    "        # add to counter the number of operations performed at this step    \n",
    "        \n",
    "    return det, counter-1 \n",
    "\n",
    "#Test this function\n",
    "B                 = np.array([[1,2,3,4],[5,6,7,8],[9,10,11,12],[13,14,15,16]])\n",
    "counter_op        = 0 \n",
    "det_B, counter_op = det_NN_count(B, len(B), counter_op)\n",
    "print(\"det(B) = \", det_B)\n",
    "print(\"number of operations = \", counter_op)"
   ]
  },
  {
   "cell_type": "code",
   "execution_count": null,
   "metadata": {},
   "outputs": [],
   "source": [
    "N     = 6\n",
    "c     = np.zeros(N-2)\n",
    "c_ref = np.zeros(N-2)\n",
    "\n",
    "for i in range(2,N):\n",
    "    B              = np.eye(i)\n",
    "    det_B, c[i-2]  = det_NN_count(B, i, 0)\n",
    "    c_ref[i-2]     = 0\n",
    "        \n",
    "plt.figure(1)\n",
    "plt.plot( range(2,N),     c      , color='red',  label=\"nb of operation in the code\")\n",
    "plt.plot( range(2,N), c_ref, '--', color='blue', label=\"nb of operation in theory\"  )\n",
    "plt.legend()\n",
    "plt.show()"
   ]
  },
  {
   "cell_type": "markdown",
   "metadata": {},
   "source": [
    "10) <b>Save your notebook</b>, and test it again with a $N\\times N$ matrix with $N=15$.\n",
    "\n",
    "Up to which $N$ is your code efficient? And for which $N$ is it impossible to use? "
   ]
  },
  {
   "cell_type": "code",
   "execution_count": null,
   "metadata": {},
   "outputs": [],
   "source": []
  },
  {
   "cell_type": "markdown",
   "metadata": {},
   "source": [
    "## Computation of the inverse"
   ]
  },
  {
   "cell_type": "markdown",
   "metadata": {},
   "source": [
    "11) Recall Cramer's formula for the solution of the linear system $A V = b$. \n"
   ]
  },
  {
   "cell_type": "markdown",
   "metadata": {},
   "source": [
    "If $A$ is invertible, then $V_i$ is given for $i\\in\\{1,...,N\\}$ by: $$V_i = \\frac{\\text{det}(C^{1},...,C^{i-1},b,C^{i+1}...,C_{N})}{\\text{det}(A)},$$\n",
    "where $C^i$ is the $i$-th column of $A$."
   ]
  },
  {
   "cell_type": "markdown",
   "metadata": {},
   "source": [
    "12) Implement an algorithm to solve a linear system $AV=b$ using the functions \"det_NN\", and test it with the matrix provided."
   ]
  },
  {
   "cell_type": "code",
   "execution_count": null,
   "metadata": {},
   "outputs": [],
   "source": [
    "def Cramer(A, b):\n",
    "    ### compute the solution V\n",
    "    V = np.zeros(len(b))\n",
    "    return V\n",
    "\n",
    "N      = 5\n",
    "B      = np.ones((N,N)) + (N+2.) * np.eye(N)\n",
    "B[0,0] = 0\n",
    "b      = np.ones(N)\n",
    "b[-1]  = 2\n",
    "sol    = Cramer(B,b)\n",
    "\n",
    "print(\"V  = \", sol)\n",
    "print(\"AV = \", np.matmul(B,sol))"
   ]
  },
  {
   "cell_type": "markdown",
   "metadata": {},
   "source": [
    "If you have finished:\n",
    "\n",
    "13) Try to improve your method by exploiting the zeros in the matrix (e.g. by factorizing by the row having the highest number of zeros, and not doing the unnecessary multiplications by zero). "
   ]
  },
  {
   "cell_type": "code",
   "execution_count": null,
   "metadata": {},
   "outputs": [],
   "source": []
  }
 ],
 "metadata": {
  "kernelspec": {
   "display_name": "Python 3",
   "language": "python",
   "name": "python3"
  },
  "language_info": {
   "codemirror_mode": {
    "name": "ipython",
    "version": 3
   },
   "file_extension": ".py",
   "mimetype": "text/x-python",
   "name": "python",
   "nbconvert_exporter": "python",
   "pygments_lexer": "ipython3",
   "version": "3.7.3"
  },
  "latex_envs": {
   "LaTeX_envs_menu_present": true,
   "autoclose": false,
   "autocomplete": true,
   "bibliofile": "biblio.bib",
   "cite_by": "apalike",
   "current_citInitial": 1,
   "eqLabelWithNumbers": true,
   "eqNumInitial": 1,
   "hotkeys": {
    "equation": "Ctrl-E",
    "itemize": "Ctrl-I"
   },
   "labels_anchors": false,
   "latex_user_defs": false,
   "report_style_numbering": false,
   "user_envs_cfg": false
  },
  "toc": {
   "base_numbering": 1,
   "nav_menu": {},
   "number_sections": true,
   "sideBar": true,
   "skip_h1_title": false,
   "title_cell": "Table of Contents",
   "title_sidebar": "Contents",
   "toc_cell": false,
   "toc_position": {},
   "toc_section_display": true,
   "toc_window_display": false
  }
 },
 "nbformat": 4,
 "nbformat_minor": 4
}
