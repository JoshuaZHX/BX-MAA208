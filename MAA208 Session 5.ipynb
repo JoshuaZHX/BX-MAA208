{
 "cells": [
  {
   "cell_type": "code",
   "execution_count": 1,
   "metadata": {},
   "outputs": [],
   "source": [
    "import numpy as np\n",
    "import scipy.linalg as lin\n",
    "import matplotlib.pyplot as plt"
   ]
  },
  {
   "cell_type": "markdown",
   "metadata": {},
   "source": [
    "The aim of this tutorial is to compare different numerical methods for solving a vectorial ODE $$\\frac{dU}{dt} = AU + S$$ where $A\\in\\mathbb{R}^{N\\times N}$ and $S\\in\\mathbb{R}^N$. \n",
    "\n",
    "We study numerical methods to solve this system."
   ]
  },
  {
   "cell_type": "markdown",
   "metadata": {},
   "source": [
    "# An iterative method: Jacobi algorithm"
   ]
  },
  {
   "cell_type": "markdown",
   "metadata": {},
   "source": [
    "Consider the problem \n",
    "\\begin{align}MU=b\\end{align}\n",
    "where $M\\in\\mathbb{R}^{N\\times N}$ and $U,b\\in\\mathbb{R}^N$. Decompose \n",
    "\\begin{align}M = D - R\\end{align} \n",
    "where $D =  Diag(M_{1,1},\\dots,M_{N,N})$ is the diagonal of $M$ and $R = D-M$ is the remaining part.\n",
    "\n",
    "Define a sequence $(V^k)_{k\\in\\mathbb{N}}$ by chosing an initial $V^0 \\in\\mathbb{R}^N$ and then iteratively \n",
    "\\begin{align} D V^{k+1} = R V^k + b. \\end{align} "
   ]
  },
  {
   "cell_type": "markdown",
   "metadata": {},
   "source": [
    "1) Assuming that $M_{i,i} \\neq 0$, verify that \n",
    "- the sequence $(V^k)_{k\\in\\mathbb{N}}$ is well-defined, \n",
    "- if it converges, then its limit solves $MU = b$, i.e. $\\lim\\limits_{k\\rightarrow \\infty}V^k = V^\\infty = U$. \n",
    "- What information is added to this limit when you consider furthermore that the whole matrix $M = D-R$ is invertible?"
   ]
  },
  {
   "cell_type": "markdown",
   "metadata": {},
   "source": [
    "Answer: \n",
    "\n",
    "- because $D$ is invertible. \n",
    "- $DV^{+\\infty} - RV^{+\\infty} = b \\quad \\Longrightarrow \\quad MU = b$ \n",
    "- $U = M^{-1} b$ "
   ]
  },
  {
   "cell_type": "markdown",
   "metadata": {},
   "source": [
    "2) What else could happen to $(V^k)$ in the limit $k\\rightarrow \\infty$? "
   ]
  },
  {
   "cell_type": "markdown",
   "metadata": {},
   "source": [
    "Answer: \n",
    "\n",
    "- It could diverge. "
   ]
  },
  {
   "cell_type": "markdown",
   "metadata": {},
   "source": [
    "3) Implement a function computing iteratively $V^{k+1}$ for solving $MU = b$. Stop the algorithm at iteration $k$ if \n",
    "- $k>100$, too many iterations are performed.\n",
    "- or $\\epsilon^k = {\\|AV^k-b\\|} < \\epsilon_{max}$, a desired accuracy is obtained.  \n",
    "\n",
    "The function should \n",
    "- take $M$, $b$, $V^0$, a maximum number of iteration $k_{\\max}$ and a certain tolerance $\\epsilon_{max}$ for arguments.\n",
    "- return $V^k$, the final solution at last $k$, the vector of the errors $(\\epsilon^i)_{i=1,\\dots,k}$ and the final $k$ (either $k$ is such that the desired accuracy is reached or $k=100$)."
   ]
  },
  {
   "cell_type": "code",
   "execution_count": 17,
   "metadata": {},
   "outputs": [],
   "source": [
    "def iterative_solve(M, b, V0, kmax, epsmax): \n",
    "    # solve the equation MU = b using the proposed iterative method\n",
    "    N       = len(b) \n",
    "    V       = np.copy(V0) \n",
    "    V_new   = np.copy(V0) \n",
    "    epsilon = np.array([lin.norm(np.matmul(M, V) - b)]) \n",
    "    k       = 0 \n",
    "    while (k < kmax) and (epsilon[-1] > epsmax): \n",
    "        V = np.copy(V_new) \n",
    "        for i in range(N): \n",
    "            V_new[i] = sum([M[i,j] * V[j] for j in range(i)]) + sum([M[i,j] * V[j] for j in range(i+1, N)]) \n",
    "            V_new[i] = (b[i] - V_new[i]) / M[i,1] \n",
    "        epsilon = np.append(epsilon, lin.norm(np.matmul(M, V_new) - b)) \n",
    "        k += 1\n",
    "    return V_new, epsilon, k"
   ]
  },
  {
   "cell_type": "code",
   "execution_count": 18,
   "metadata": {},
   "outputs": [
    {
     "ename": "ValueError",
     "evalue": "expected square matrix",
     "output_type": "error",
     "traceback": [
      "\u001b[1;31m---------------------------------------------------------------------------\u001b[0m",
      "\u001b[1;31mValueError\u001b[0m                                Traceback (most recent call last)",
      "\u001b[1;32m<ipython-input-18-4d76bb38336a>\u001b[0m in \u001b[0;36m<module>\u001b[1;34m\u001b[0m\n\u001b[0;32m      1\u001b[0m \u001b[0mD\u001b[0m \u001b[1;33m=\u001b[0m \u001b[0mnp\u001b[0m\u001b[1;33m.\u001b[0m\u001b[0mdiag\u001b[0m\u001b[1;33m(\u001b[0m\u001b[0mM\u001b[0m\u001b[1;33m)\u001b[0m\u001b[1;33m\u001b[0m\u001b[1;33m\u001b[0m\u001b[0m\n\u001b[0;32m      2\u001b[0m \u001b[0mR\u001b[0m \u001b[1;33m=\u001b[0m \u001b[0mD\u001b[0m \u001b[1;33m-\u001b[0m \u001b[0mM\u001b[0m\u001b[1;33m\u001b[0m\u001b[1;33m\u001b[0m\u001b[0m\n\u001b[1;32m----> 3\u001b[1;33m \u001b[0mV_new\u001b[0m \u001b[1;33m=\u001b[0m \u001b[0mnp\u001b[0m\u001b[1;33m.\u001b[0m\u001b[0mmatmul\u001b[0m\u001b[1;33m(\u001b[0m\u001b[0mlin\u001b[0m\u001b[1;33m.\u001b[0m\u001b[0minv\u001b[0m\u001b[1;33m(\u001b[0m\u001b[0mD\u001b[0m\u001b[1;33m)\u001b[0m\u001b[1;33m,\u001b[0m \u001b[0mnp\u001b[0m\u001b[1;33m.\u001b[0m\u001b[0mmatmul\u001b[0m\u001b[1;33m(\u001b[0m\u001b[0mR\u001b[0m\u001b[1;33m,\u001b[0m \u001b[0mV\u001b[0m\u001b[1;33m)\u001b[0m \u001b[1;33m+\u001b[0m \u001b[0mb\u001b[0m\u001b[1;33m)\u001b[0m\u001b[1;33m\u001b[0m\u001b[1;33m\u001b[0m\u001b[0m\n\u001b[0m",
      "\u001b[1;32mE:\\Anaconda\\lib\\site-packages\\scipy\\linalg\\basic.py\u001b[0m in \u001b[0;36minv\u001b[1;34m(a, overwrite_a, check_finite)\u001b[0m\n\u001b[0;32m    945\u001b[0m     \u001b[0ma1\u001b[0m \u001b[1;33m=\u001b[0m \u001b[0m_asarray_validated\u001b[0m\u001b[1;33m(\u001b[0m\u001b[0ma\u001b[0m\u001b[1;33m,\u001b[0m \u001b[0mcheck_finite\u001b[0m\u001b[1;33m=\u001b[0m\u001b[0mcheck_finite\u001b[0m\u001b[1;33m)\u001b[0m\u001b[1;33m\u001b[0m\u001b[1;33m\u001b[0m\u001b[0m\n\u001b[0;32m    946\u001b[0m     \u001b[1;32mif\u001b[0m \u001b[0mlen\u001b[0m\u001b[1;33m(\u001b[0m\u001b[0ma1\u001b[0m\u001b[1;33m.\u001b[0m\u001b[0mshape\u001b[0m\u001b[1;33m)\u001b[0m \u001b[1;33m!=\u001b[0m \u001b[1;36m2\u001b[0m \u001b[1;32mor\u001b[0m \u001b[0ma1\u001b[0m\u001b[1;33m.\u001b[0m\u001b[0mshape\u001b[0m\u001b[1;33m[\u001b[0m\u001b[1;36m0\u001b[0m\u001b[1;33m]\u001b[0m \u001b[1;33m!=\u001b[0m \u001b[0ma1\u001b[0m\u001b[1;33m.\u001b[0m\u001b[0mshape\u001b[0m\u001b[1;33m[\u001b[0m\u001b[1;36m1\u001b[0m\u001b[1;33m]\u001b[0m\u001b[1;33m:\u001b[0m\u001b[1;33m\u001b[0m\u001b[1;33m\u001b[0m\u001b[0m\n\u001b[1;32m--> 947\u001b[1;33m         \u001b[1;32mraise\u001b[0m \u001b[0mValueError\u001b[0m\u001b[1;33m(\u001b[0m\u001b[1;34m'expected square matrix'\u001b[0m\u001b[1;33m)\u001b[0m\u001b[1;33m\u001b[0m\u001b[1;33m\u001b[0m\u001b[0m\n\u001b[0m\u001b[0;32m    948\u001b[0m     \u001b[0moverwrite_a\u001b[0m \u001b[1;33m=\u001b[0m \u001b[0moverwrite_a\u001b[0m \u001b[1;32mor\u001b[0m \u001b[0m_datacopied\u001b[0m\u001b[1;33m(\u001b[0m\u001b[0ma1\u001b[0m\u001b[1;33m,\u001b[0m \u001b[0ma\u001b[0m\u001b[1;33m)\u001b[0m\u001b[1;33m\u001b[0m\u001b[1;33m\u001b[0m\u001b[0m\n\u001b[0;32m    949\u001b[0m     \u001b[1;31m# XXX: I found no advantage or disadvantage of using finv.\u001b[0m\u001b[1;33m\u001b[0m\u001b[1;33m\u001b[0m\u001b[1;33m\u001b[0m\u001b[0m\n",
      "\u001b[1;31mValueError\u001b[0m: expected square matrix"
     ]
    }
   ],
   "source": [
    "D = np.diag(M) \n",
    "R = D - M \n",
    "V_new = np.matmul(lin.inv(D), np.matmul(R, V) + b) "
   ]
  },
  {
   "cell_type": "markdown",
   "metadata": {},
   "source": [
    "4) Consider the matrices $B(x) \\in\\mathbb{R}^{N\\times N}$ defined for $x\\in\\mathbb{R}$ by: \n",
    "\\begin{align}\n",
    "    B(x)_{i,j} = x \\delta_{i,j} - \\frac{1}{N}.\n",
    "\\end{align} \n",
    "\n",
    "Choose the data: \\begin{align} N = 10,  \\quad \\epsilon_{max} = 10^{-8}, \\quad b \\in\\mathbb{R}^N \\quad\\text{and}\\quad V^0 \\in\\mathbb{R}^N \\quad\\text{s.t.}\\quad b_i=1, \\quad V^0 = e^0,\\end{align}\n",
    "and the matrix to invert $M=B(x=2)$.\n",
    "\n",
    "- Compute $V^k$ and $MV^k - b$ at the end of the iterations. \n",
    "- Verify that the error $\\epsilon^k$ is inferior to desired accuracy $\\epsilon_{max}$ or that $k=100$.\n",
    "- Plot the error $\\epsilon^k$ as a function of $k$ in logscale.  "
   ]
  },
  {
   "cell_type": "code",
   "execution_count": 20,
   "metadata": {
    "scrolled": false
   },
   "outputs": [
    {
     "name": "stdout",
     "output_type": "stream",
     "text": [
      "solution =  [ 1.07886687e+90 -6.43602040e+88  1.07886687e+90  1.07886687e+90\n",
      "  1.07886687e+90  1.07886687e+90  1.07886687e+90  1.07886687e+90\n",
      "  1.07886687e+90  1.07886687e+90]\n",
      "residual =  [3.16227766e+00 3.72611507e+01 2.38504168e+02 1.95074849e+03\n",
      " 1.54326049e+04 1.22597203e+05 9.73407043e+05 7.72924438e+06\n",
      " 6.13728071e+07 4.87321296e+08 3.86949898e+09 3.07251555e+10\n",
      " 2.43968323e+11 1.93719257e+12 1.53819766e+13 1.22138195e+14\n",
      " 9.69819362e+14 7.70069996e+15 6.11462116e+16 4.85521993e+17\n",
      " 3.85521195e+18 3.06117115e+19 2.43067539e+20 1.93004003e+21\n",
      " 1.53251829e+22 1.21687234e+23 9.66238575e+23 7.67226728e+24\n",
      " 6.09204463e+25 4.83729339e+26 3.84097765e+27 3.04986863e+28\n",
      " 2.42170080e+29 1.92291389e+30 1.52685990e+31 1.21237938e+32\n",
      " 9.62671010e+32 7.64393958e+33 6.06955146e+34 4.81943303e+35\n",
      " 3.82679592e+36 3.03860784e+37 2.41275935e+38 1.91581407e+39\n",
      " 1.52122240e+40 1.20790301e+41 9.59116617e+41 7.61571648e+42\n",
      " 6.04714134e+43 4.80163863e+44 3.81266655e+45 3.02738863e+46\n",
      " 2.40385091e+47 1.90874046e+48 1.51560571e+49 1.20344317e+50\n",
      " 9.55575347e+50 7.58759757e+51 6.02481396e+52 4.78390992e+53\n",
      " 3.79858934e+54 3.01621085e+55 2.39497536e+56 1.90169297e+57\n",
      " 1.51000976e+58 1.19899979e+59 9.52047153e+59 7.55958249e+60\n",
      " 6.00256903e+61 4.76624667e+62 3.78456412e+63 3.00507433e+64\n",
      " 2.38613258e+65 1.89467151e+66 1.50443447e+67 1.19457282e+68\n",
      " 9.48531985e+68 7.53167085e+69 5.98040622e+70 4.74864864e+71\n",
      " 3.77059067e+72 2.99397894e+73 2.37732246e+74 1.88767596e+75\n",
      " 1.49887977e+76 1.19016219e+77 9.45029796e+77 7.50386227e+78\n",
      " 5.95832524e+79 4.73111558e+80 3.75666882e+81 2.98292451e+82\n",
      " 2.36854486e+83 1.88070625e+84 1.49334557e+85 1.18576785e+86\n",
      " 9.41540538e+86 7.47615635e+87 5.93632580e+88 4.71364726e+89\n",
      " 3.74279837e+90]\n",
      "final iteration 100\n"
     ]
    },
    {
     "data": {
      "image/png": "[encoded data removed]",
      "text/plain": [
       "<Figure size 432x288 with 1 Axes>"
      ]
     },
     "metadata": {
      "needs_background": "light"
     },
     "output_type": "display_data"
    }
   ],
   "source": [
    "### test your aglorithm\n",
    "#Construction of the matrices and vectors\n",
    "N = 10\n",
    "x = 2 \n",
    "\n",
    "M        = x * np.eye(N) - np.ones(N) / N \n",
    "b        = np.ones(N) \n",
    "V0       = np.zeros(N) \n",
    "\n",
    "#Parameter of the method\n",
    "kmax     = 100\n",
    "epsmax   = 10**(-8)\n",
    "\n",
    "\n",
    "#Solving the system\n",
    "U, eps, k = iterative_solve(M, b, V0, kmax, epsmax) \n",
    "\n",
    "print('solution = ', U)\n",
    "print('residual = ', eps) \n",
    "print('final iteration', k) \n",
    "\n",
    "plt.figure(1)\n",
    "plt.semilogy(range(k), eps[:k]) \n",
    "plt.xlabel('k')\n",
    "plt.ylabel('Error')\n",
    "plt.title(\"Error(k)\")\n",
    "plt.show()"
   ]
  },
  {
   "cell_type": "markdown",
   "metadata": {},
   "source": [
    "5) What can you say about the convergence rate of the algorithm, i.e. the speed of convergence of the sequence $(V^k)_{k\\in\\mathbb{N}}$ to the desired result?"
   ]
  },
  {
   "cell_type": "markdown",
   "metadata": {},
   "source": [
    "Answer: "
   ]
  },
  {
   "cell_type": "markdown",
   "metadata": {},
   "source": [
    "6) Reproduce the previous computations with $x=5$ and $x=10$, and plot on the same graph the errors obtained with your algorithm for the different values of $x$. Interprete the evolution of this convergence rate with $x$."
   ]
  },
  {
   "cell_type": "code",
   "execution_count": 22,
   "metadata": {},
   "outputs": [
    {
     "name": "stdout",
     "output_type": "stream",
     "text": [
      "solution2 =  [ 1.70150609e+90 -3.91779522e+88  1.70150609e+90  1.70150609e+90\n",
      "  1.70150609e+90  1.70150609e+90  1.70150609e+90  1.70150609e+90\n",
      "  1.70150609e+90  1.70150609e+90]\n",
      "residual2 =  [3.16227766e+00 1.26382089e+02 8.58986988e+02 7.00122118e+03\n",
      " 5.56994500e+04 4.44462206e+05 3.54531460e+06 2.82810334e+07\n",
      " 2.25596934e+08 1.79958115e+09 1.43552129e+10 1.14511168e+11\n",
      " 9.13452672e+11 7.28658871e+12 5.81249327e+13 4.63661108e+14\n",
      " 3.69861286e+15 2.95037406e+16 2.35350588e+17 1.87738565e+18\n",
      " 1.49758575e+19 1.19462034e+20 9.52945607e+20 7.60162285e+21\n",
      " 6.06379520e+22 4.83707399e+23 3.85852161e+24 3.07793287e+25\n",
      " 2.45525921e+26 1.95855402e+27 1.56233356e+28 1.24626950e+29\n",
      " 9.94146011e+29 7.93027742e+30 6.32596211e+31 5.04620387e+32\n",
      " 4.02534399e+33 3.21100665e+34 2.56141183e+35 2.04323170e+36\n",
      " 1.62988072e+37 1.30015171e+38 1.03712771e+39 8.27314131e+39\n",
      " 6.59946376e+40 5.26437544e+41 4.19937889e+42 3.34983385e+43\n",
      " 2.67215394e+44 2.13157039e+45 1.70034828e+46 1.35636349e+47\n",
      " 1.08196770e+48 8.63082884e+48 6.88479020e+49 5.49197961e+50\n",
      " 4.38093816e+51 3.49466322e+52 2.78768395e+53 2.22372839e+54\n",
      " 1.77386248e+55 1.41500558e+56 1.12874635e+57 9.00398092e+57\n",
      " 7.18245266e+58 5.72942420e+59 4.57034710e+60 3.64575425e+61\n",
      " 2.90820888e+62 2.31987082e+63 1.85055505e+64 1.47618305e+65\n",
      " 1.17754746e+66 9.39326615e+66 7.49298450e+67 5.97713466e+68\n",
      " 4.76794510e+69 3.80337767e+70 3.03394469e+71 2.42016995e+72\n",
      " 1.93056341e+73 1.54000552e+74 1.22845848e+75 9.79938205e+75\n",
      " 7.81694211e+76 6.23555483e+77 4.97408621e+78 3.96781591e+79\n",
      " 3.16511665e+80 2.52480550e+81 2.01403092e+82 1.60658734e+83\n",
      " 1.28157063e+84 1.02230563e+85 8.15490597e+85 6.50514773e+86\n",
      " 5.18913979e+87 4.13936360e+88 3.30195981e+89 2.63396493e+90\n",
      " 2.10110712e+91]\n",
      "final iteration2 100\n",
      "\n",
      "solution3 =  [ 1.96586582e+90 -2.23712068e+88  1.96586582e+90  1.96586582e+90\n",
      "  1.96586582e+90  1.96586582e+90  1.96586582e+90  1.96586582e+90\n",
      "  1.96586582e+90  1.96586582e+90]\n",
      "residual3 =  [3.16227766e+00 2.76176987e+02 1.90684122e+03 1.55324419e+04\n",
      " 1.23783364e+05 9.89157692e+05 7.90170568e+06 6.31240248e+07\n",
      " 5.04273559e+08 4.02845023e+09 3.21817585e+10 2.57087845e+11\n",
      " 2.05377715e+12 1.64068456e+13 1.31068057e+14 1.04705293e+15\n",
      " 8.36450815e+15 6.68208785e+16 5.33806619e+17 4.26437832e+18\n",
      " 3.40664987e+19 2.72144319e+20 2.17405760e+21 1.73677204e+22\n",
      " 1.38744121e+23 1.10837409e+24 8.85437960e+24 7.07342755e+25\n",
      " 5.65069261e+26 4.51412370e+27 3.60616196e+28 2.88082582e+29\n",
      " 2.30138233e+30 1.83848693e+31 1.46869738e+32 1.17328655e+33\n",
      " 9.37294062e+33 7.48768625e+34 5.98162815e+35 4.77849553e+36\n",
      " 3.81735858e+37 3.04954278e+38 2.43616390e+39 1.94615880e+40\n",
      " 1.55471235e+41 1.24200064e+42 9.92187141e+42 7.92620621e+43\n",
      " 6.33194508e+44 5.05835043e+45 4.04092403e+46 3.22814072e+47\n",
      " 2.57883901e+48 2.06013653e+49 1.64576483e+50 1.31473901e+51\n",
      " 1.05029506e+52 8.39040830e+52 6.70277850e+53 5.35459516e+54\n",
      " 4.27758269e+55 3.41719834e+56 2.72986996e+57 2.18078942e+58\n",
      " 1.74214984e+59 1.39173734e+60 1.11180610e+61 8.88179661e+61\n",
      " 7.09532996e+62 5.66818961e+63 4.52810139e+64 3.61732821e+65\n",
      " 2.88974611e+66 2.30850841e+67 1.84417969e+68 1.47324510e+69\n",
      " 1.17691956e+70 9.40196331e+70 7.51087138e+71 6.00014987e+72\n",
      " 4.79329183e+73 3.82917878e+74 3.05898549e+75 2.44370732e+76\n",
      " 1.95218496e+77 1.55952641e+78 1.24584642e+79 9.95259383e+79\n",
      " 7.95074919e+80 6.35155154e+81 5.07401328e+82 4.05343648e+83\n",
      " 3.23813645e+84 2.58682422e+85 2.06651561e+86 1.65086083e+87\n",
      " 1.31881001e+88 1.05354723e+89 8.41638865e+89 6.72353322e+90\n",
      " 5.37117531e+91]\n",
      "final iteration3 100\n"
     ]
    },
    {
     "data": {
      "image/png": "[encoded data removed]",
      "text/plain": [
       "<Figure size 432x288 with 1 Axes>"
      ]
     },
     "metadata": {
      "needs_background": "light"
     },
     "output_type": "display_data"
    }
   ],
   "source": [
    "### test your aglorithm with other parameters\n",
    "kmax     = 100\n",
    "epsmax   = 10**(-8)\n",
    "\n",
    "N  = 10\n",
    "x  = 5\n",
    "M2 = x * np.eye(N) - np.ones(N) / N \n",
    "b  = np.ones(N) \n",
    "\n",
    "V0 = np.zeros(N) \n",
    "\n",
    "U2, eps2, k2 = iterative_solve(M2, b, V0, kmax, epsmax) \n",
    "\n",
    "print('solution2 = ', U2)\n",
    "print('residual2 = ', eps2) \n",
    "print('final iteration2', k2) \n",
    "\n",
    "x  = 10\n",
    "M3 = x * np.eye(N) - np.ones(N) / N \n",
    "\n",
    "U3, eps3, k3 = iterative_solve(M3, b, V0, kmax, epsmax) \n",
    "\n",
    "print()\n",
    "print('solution3 = ', U3) \n",
    "print('residual3 = ', eps3) \n",
    "print('final iteration3', k3) \n",
    "\n",
    "\n",
    "plt.figure(2)\n",
    "plt.semilogy(range(k), eps[:k], 'r', label='x=2')\n",
    "plt.semilogy(range(k2), eps[:k2], 'b', label='x=5')\n",
    "plt.semilogy(range(k3), eps[:k3], 'g', label='x=10')\n",
    "plt.xlabel('k')\n",
    "plt.ylabel('Error')\n",
    "plt.legend()\n",
    "plt.title(\"Error(k)\")\n",
    "plt.show()"
   ]
  },
  {
   "cell_type": "markdown",
   "metadata": {},
   "source": [
    "7) Test again the algorithm with $x=\\frac{2}{N}$. Give an interpretation."
   ]
  },
  {
   "cell_type": "code",
   "execution_count": 23,
   "metadata": {},
   "outputs": [
    {
     "name": "stdout",
     "output_type": "stream",
     "text": [
      "solution4 =  [ 2.50686602e+82 -3.39492002e+82  2.50686602e+82  2.50686602e+82\n",
      "  2.50686602e+82  2.50686602e+82  2.50686602e+82  2.50686602e+82\n",
      "  2.50686602e+82  2.50686602e+82]\n",
      "residual4 =  [3.16227766e+00 1.74928557e+01 1.22449990e+02 8.11897777e+02\n",
      " 5.40340726e+03 3.59099396e+04 2.38659092e+05 1.58607304e+06\n",
      " 1.05406627e+07 7.00506342e+07 4.65539119e+08 3.09385724e+09\n",
      " 2.05610058e+10 1.36643332e+11 9.08097600e+11 6.03499081e+12\n",
      " 4.01070481e+13 2.66541468e+14 1.77136831e+15 1.17720733e+16\n",
      " 7.82342713e+16 5.19925511e+17 3.45529564e+18 2.29630356e+19\n",
      " 1.52606624e+20 1.01418567e+21 6.74002574e+21 4.47925349e+22\n",
      " 2.97680048e+23 1.97830757e+24 1.31473401e+25 8.73739528e+25\n",
      " 5.80665561e+26 3.85895891e+27 2.56456813e+28 1.70434820e+29\n",
      " 1.13266743e+30 7.52742604e+30 5.00254015e+31 3.32456377e+32\n",
      " 2.20942241e+33 1.46832719e+34 9.75813732e+34 6.48501539e+35\n",
      " 4.30977995e+36 2.86417258e+37 1.90345787e+38 1.26499076e+39\n",
      " 8.40681400e+39 5.58695952e+40 3.71295436e+41 2.46753713e+42\n",
      " 1.63986381e+43 1.08981271e+44 7.24262422e+44 4.81326794e+45\n",
      " 3.19877817e+46 2.12582842e+47 1.41277270e+48 9.38893605e+48\n",
      " 6.23965341e+49 4.14671848e+50 2.75580598e+51 1.83144012e+52\n",
      " 1.21712956e+53 8.08874035e+53 5.37557568e+54 3.57247391e+55\n",
      " 2.37417732e+56 1.57781920e+57 1.04857940e+58 6.96859794e+58\n",
      " 4.63115689e+59 3.07775170e+60 2.04539724e+61 1.35932014e+62\n",
      " 9.03370359e+62 6.00357475e+63 3.98982647e+64 2.65153945e+65\n",
      " 1.76214718e+66 1.17107919e+67 7.78270108e+67 5.17218959e+68\n",
      " 3.43730858e+69 2.28434980e+70 1.51812207e+71 1.00890617e+72\n",
      " 6.70493951e+72 4.45593605e+73 2.96130429e+74 1.96800918e+75\n",
      " 1.30788996e+76 8.69191143e+76 5.77642818e+77 3.83887051e+78\n",
      " 2.55121787e+79 1.69547595e+80 1.12677115e+81 7.48824088e+81\n",
      " 4.97649866e+82]\n",
      "final iteration4 100\n"
     ]
    },
    {
     "data": {
      "image/png": "[encoded data removed]",
      "text/plain": [
       "<Figure size 432x288 with 1 Axes>"
      ]
     },
     "metadata": {
      "needs_background": "light"
     },
     "output_type": "display_data"
    }
   ],
   "source": [
    "### test your aglorithm with other parameters\n",
    "kmax     = 100\n",
    "epsmax   = 10**(-8)\n",
    "\n",
    "N  = 10\n",
    "x  = 2/N \n",
    "M4 = x * np.eye(N) - np.ones(N) / N \n",
    "b  = np.ones(N) \n",
    "\n",
    "V0 = np.zeros(N) \n",
    "\n",
    "U4, eps4, k4 = iterative_solve(M4, b, V0, kmax, epsmax) \n",
    "\n",
    "print('solution4 = ', U4)\n",
    "print('residual4 = ', eps4)\n",
    "print('final iteration4', k4) \n",
    "\n",
    "plt.figure(4) \n",
    "plt.semilogy(range(k), eps[:k], 'r', label='x=2/N')\n",
    "plt.xlabel('k')\n",
    "plt.ylabel('Error')\n",
    "plt.legend()\n",
    "plt.title(\"Error(k)\")\n",
    "plt.show()"
   ]
  },
  {
   "cell_type": "markdown",
   "metadata": {},
   "source": [
    "Answer: "
   ]
  },
  {
   "cell_type": "markdown",
   "metadata": {},
   "source": [
    "# Application for solving the ODE"
   ]
  },
  {
   "cell_type": "markdown",
   "metadata": {},
   "source": [
    "In order to solve this ODE numerically, we need to reduce it into a finite dimensional problem. For this purpose, we use an implicit Euler time discretization: This method consists in approximating the value of $U$ at a finite number of values $(t^n)_{n=0,\\dots,N}$. One writes \\begin{equation} \\frac{U^{n+1} - U^n}{\\Delta t} = A U^{n+1} + S, \\qquad{} (1)\\end{equation}\n",
    "where $U^n \\approx U(t^n)$ approximates the value of $U$ at time $t^n$, and $\\Delta t = t^{n+1}-t^n$ is the time step between the times $t^{n+1}$ and $t^n$. We choose to fix $\\Delta t$ constant for all $n$. Remark that this definition of $U^{n+1}$ is equivalent to the vectorial equation of the last question, but without the infinitesimal hypothesis of $\\delta t$. This is therefore only an approximation. "
   ]
  },
  {
   "cell_type": "markdown",
   "metadata": {},
   "source": [
    "1) Rewrite the discrete equation (1) under the form $B U^{n+1} = C U^n + E S$ (identify the matrices $B$, $C$ and $E$). "
   ]
  },
  {
   "cell_type": "markdown",
   "metadata": {},
   "source": [
    "Answer: \n",
    "\n",
    "- $B = I_n - \\Delta t A$ \n",
    "- $C = I_n$ \n",
    "- $E = \\Delta t I_n$ "
   ]
  },
  {
   "cell_type": "markdown",
   "metadata": {},
   "source": [
    "2) Using Gershgorin theorem, \n",
    "\n",
    "a) what can you deduce on the eigenvalues of $B$ when $\\Delta t$ is small? \n",
    "\n",
    "b) What can you deduce on the eigenvalues of its Jacobi iteration matrix ?"
   ]
  },
  {
   "cell_type": "markdown",
   "metadata": {},
   "source": [
    "Answer:"
   ]
  },
  {
   "cell_type": "markdown",
   "metadata": {},
   "source": [
    "3) Implement a function that \n",
    "- take as arguments: initial vector $U_0$, the matrix $A$, the source vector $S$ (constant), the time step $\\Delta t$, the final time $T$ and the maximum number of iteration $k_{\\max}$ and maximum tolerance $\\epsilon_{\\max}$\n",
    "of the iterative mathod\n",
    "- returns the sequence of the approximate solution $U^{n}$.  \n",
    "\n",
    "It should compute iteratively each $U^{n+1}$ based on $U^n$, by solving the linear system (2) with the Jacobi iteration method of the last section. Choose $U^n$ as an initialisation when using this method to compute $U^{n+1}$."
   ]
  },
  {
   "cell_type": "code",
   "execution_count": null,
   "metadata": {},
   "outputs": [],
   "source": [
    "def solve_ODE_Jacobi(U0, A, S, dt, T_end, kmax, eps_max):\n",
    "    # assemble the data (construct the matrices and vectors)\n",
    "    # define iteratively U^{n+1} as a function of U^n \n",
    "    \n",
    "    U = np.zeros((,))\n",
    "        \n",
    "    return U"
   ]
  },
  {
   "cell_type": "markdown",
   "metadata": {},
   "source": [
    "4) Test it with the matrix $A$ such that $A_{i,j} = 1/N$ for all $i,j$.\n",
    "\n",
    "- Problem parameters: Choose the data: $N = 10$, $S \\in\\mathbb{R}^N$ such that $S=(1,2,\\dots,N)$. \n",
    "- ODE parameters: Choose $U^0 = (N,\\dots, 2,1)$ at initial time, final time is $T=1$ and fix $\\Delta t = \\frac{1}{100}$ (or equivalently do $n_{final} = 100$ time steps).\n",
    "- Iterative methods parameters: Choose the maximum error is $\\epsilon_{max} = 10^{-8}$, and a maximum number of iteration $k_max = 100$.\n",
    "\n",
    "Plot the solution $U_i^{n_{final}}$ on a graph as a function of $i$. "
   ]
  },
  {
   "cell_type": "code",
   "execution_count": null,
   "metadata": {},
   "outputs": [],
   "source": [
    "#Problem parameters\n",
    "N   = 10\n",
    "\n",
    "#ODE parameters\n",
    "dt    = 1/100.\n",
    "T_end = 1.\n",
    "\n",
    "U0    = \n",
    "S     = \n",
    "A     = \n",
    "\n",
    "#Iterative method parameters\n",
    "epsmax = 10**(-8)\n",
    "kmax   = 100\n",
    "\n",
    "# Solve\n",
    "U = \n",
    "\n",
    "\n",
    "plt.figure(3)\n",
    "plt.xlabel('t')\n",
    "plt.ylabel('U_i')\n",
    "plt.title('U_i(t)')\n",
    "plt.plot(,)\n",
    "plt.show()"
   ]
  },
  {
   "cell_type": "code",
   "execution_count": null,
   "metadata": {},
   "outputs": [],
   "source": []
  }
 ],
 "metadata": {
  "kernelspec": {
   "display_name": "Python 3",
   "language": "python",
   "name": "python3"
  },
  "language_info": {
   "codemirror_mode": {
    "name": "ipython",
    "version": 3
   },
   "file_extension": ".py",
   "mimetype": "text/x-python",
   "name": "python",
   "nbconvert_exporter": "python",
   "pygments_lexer": "ipython3",
   "version": "3.7.3"
  },
  "latex_envs": {
   "LaTeX_envs_menu_present": true,
   "autoclose": false,
   "autocomplete": true,
   "bibliofile": "biblio.bib",
   "cite_by": "apalike",
   "current_citInitial": 1,
   "eqLabelWithNumbers": true,
   "eqNumInitial": 1,
   "hotkeys": {
    "equation": "Ctrl-E",
    "itemize": "Ctrl-I"
   },
   "labels_anchors": false,
   "latex_user_defs": false,
   "report_style_numbering": false,
   "user_envs_cfg": false
  },
  "toc": {
   "base_numbering": 1,
   "nav_menu": {},
   "number_sections": true,
   "sideBar": true,
   "skip_h1_title": false,
   "title_cell": "Table of Contents",
   "title_sidebar": "Contents",
   "toc_cell": false,
   "toc_position": {
    "height": "calc(100% - 180px)",
    "left": "10px",
    "top": "150px",
    "width": "165px"
   },
   "toc_section_display": true,
   "toc_window_display": true
  }
 },
 "nbformat": 4,
 "nbformat_minor": 4
}
