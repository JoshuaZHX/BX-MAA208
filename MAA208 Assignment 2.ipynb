{
 "cells": [
  {
   "cell_type": "markdown",
   "metadata": {},
   "source": [
    "# Assigment 2 (week 3)"
   ]
  },
  {
   "cell_type": "code",
   "execution_count": 12,
   "metadata": {},
   "outputs": [],
   "source": [
    "import numpy as np"
   ]
  },
  {
   "cell_type": "markdown",
   "metadata": {},
   "source": [
    "## Implementation part\n",
    "\n",
    "I) Implement the back substitution algorithm (neither using the forward one, nor Gaussian elimination) for upper triangular matrices.\n",
    "\n",
    "Test it to solve $AV=b$ with the provided $A$ and $b$. **Verify the results!**"
   ]
  },
  {
   "cell_type": "code",
   "execution_count": 13,
   "metadata": {},
   "outputs": [],
   "source": [
    "def back_substitution(A,b): \n",
    "    N = len(b) \n",
    "    V = np.ones(N) \n",
    "    for i in range(N-1, -1, -1): \n",
    "        what = 0 \n",
    "        for j in range(N-1, i, -1): \n",
    "            what += A[i][j] * V[j] \n",
    "        V[i] = (b[i] - what) / A[i][i] \n",
    "    return V "
   ]
  },
  {
   "cell_type": "code",
   "execution_count": 14,
   "metadata": {},
   "outputs": [
    {
     "name": "stdout",
     "output_type": "stream",
     "text": [
      "V =  [-5.  0.  2.]\n",
      "UV =  [4. 2. 6.] b =  [4 2 6]\n"
     ]
    }
   ],
   "source": [
    "A   = np.array([[2,8,7],[0,3,1],[0,0,3]]) \n",
    "b   = np.array([4,2,6]) \n",
    "V = back_substitution(A,b) \n",
    "print(\"V = \", V) \n",
    "print(\"UV = \", np.matmul(A,V), \"b = \", b) "
   ]
  },
  {
   "cell_type": "code",
   "execution_count": 15,
   "metadata": {},
   "outputs": [
    {
     "name": "stdout",
     "output_type": "stream",
     "text": [
      "Matrix A:\n",
      " [[1.e+00 1.e-01 1.e-02 1.e-03 1.e-04 1.e-05 1.e-06 1.e-07 1.e-08 1.e-09]\n",
      " [0.e+00 1.e+00 1.e-01 1.e-02 1.e-03 1.e-04 1.e-05 1.e-06 1.e-07 1.e-08]\n",
      " [0.e+00 0.e+00 1.e+00 1.e-01 1.e-02 1.e-03 1.e-04 1.e-05 1.e-06 1.e-07]\n",
      " [0.e+00 0.e+00 0.e+00 1.e+00 1.e-01 1.e-02 1.e-03 1.e-04 1.e-05 1.e-06]\n",
      " [0.e+00 0.e+00 0.e+00 0.e+00 1.e+00 1.e-01 1.e-02 1.e-03 1.e-04 1.e-05]\n",
      " [0.e+00 0.e+00 0.e+00 0.e+00 0.e+00 1.e+00 1.e-01 1.e-02 1.e-03 1.e-04]\n",
      " [0.e+00 0.e+00 0.e+00 0.e+00 0.e+00 0.e+00 1.e+00 1.e-01 1.e-02 1.e-03]\n",
      " [0.e+00 0.e+00 0.e+00 0.e+00 0.e+00 0.e+00 0.e+00 1.e+00 1.e-01 1.e-02]\n",
      " [0.e+00 0.e+00 0.e+00 0.e+00 0.e+00 0.e+00 0.e+00 0.e+00 1.e+00 1.e-01]\n",
      " [0.e+00 0.e+00 0.e+00 0.e+00 0.e+00 0.e+00 0.e+00 0.e+00 0.e+00 1.e+00]] \n",
      "\n",
      "Vector b:\n",
      " [1. 1. 1. 1. 1. 1. 1. 1. 1. 1.]\n"
     ]
    }
   ],
   "source": [
    "N = 10\n",
    "\n",
    "A = np.eye(N)\n",
    "for i in range(1,N):\n",
    "    A += np.diag(np.ones(N-i)/N**i,i)\n",
    "print(\"Matrix A:\\n\", A,\"\\n\")\n",
    "\n",
    "b = np.ones(N)\n",
    "print(\"Vector b:\\n\",b)"
   ]
  },
  {
   "cell_type": "code",
   "execution_count": 16,
   "metadata": {},
   "outputs": [
    {
     "name": "stdout",
     "output_type": "stream",
     "text": [
      "V =  [0.9 0.9 0.9 0.9 0.9 0.9 0.9 0.9 0.9 1. ]\n",
      "AV =  [1. 1. 1. 1. 1. 1. 1. 1. 1. 1.]\n"
     ]
    }
   ],
   "source": [
    "V = back_substitution(A,b) \n",
    "print(\"V = \", V) \n",
    "print(\"AV = \", np.dot(A,V)) "
   ]
  },
  {
   "cell_type": "markdown",
   "metadata": {},
   "source": [
    "## Written part\n",
    "The rest requires no implementation, you are allowed to write your answers on a different document (pdf, png, ...) if you are not confortable with markdown.\n",
    "\n",
    "II) a) Using the Gaussian algorithm, solve  (**write** the solution ; no implementation) the problem $BV = b$, with $$ B = \\left(\\begin{array}{lll} 1 & 2 & 3 \\\\ 4 & 5 & 6 \\\\ 7 & 8 & 9\\end{array} \\right), \\qquad b = \\left(\\begin{array}{c} 1 \\\\ 2 \\\\ 3\\end{array}\\right) $$"
   ]
  },
  {
   "cell_type": "markdown",
   "metadata": {},
   "source": [
    "**Answer**:"
   ]
  },
  {
   "cell_type": "markdown",
   "metadata": {},
   "source": [
    "b) Using the Gaussian algorithm with pivot, solve (**write** the solution ; no implementation) the problem $CV = b$, with $$ C = \\left(\\begin{array}{lll} 1 & 2 & 3 \\\\ 4 & 8 & 6 \\\\ 7 & 8 & 9 \\end{array} \\right), \\qquad b = \\left(\\begin{array}{c} 1 \\\\ 2 \\\\ 3\\end{array}\\right) $$"
   ]
  },
  {
   "cell_type": "markdown",
   "metadata": {},
   "source": [
    "**Answer**:"
   ]
  },
  {
   "cell_type": "markdown",
   "metadata": {},
   "source": [
    "III) Using the LU decomposition algorithm, **write** down (no implementation) the lower $L$ and upper $U$ triangular matrices such that $LU = D$ with $L_{i,i} = 1$ for all $i$ and $$D = \\left( \\begin{array}{ccc} 1 & 2 & 0 \\\\ 2 & 8 & 5 \\\\ 0 & 8 & 19\\end{array} \\right).$$"
   ]
  },
  {
   "cell_type": "markdown",
   "metadata": {},
   "source": [
    "**Answer:**"
   ]
  },
  {
   "cell_type": "code",
   "execution_count": null,
   "metadata": {},
   "outputs": [],
   "source": []
  }
 ],
 "metadata": {
  "kernelspec": {
   "display_name": "Python 3",
   "language": "python",
   "name": "python3"
  },
  "language_info": {
   "codemirror_mode": {
    "name": "ipython",
    "version": 3
   },
   "file_extension": ".py",
   "mimetype": "text/x-python",
   "name": "python",
   "nbconvert_exporter": "python",
   "pygments_lexer": "ipython3",
   "version": "3.7.3"
  },
  "toc": {
   "base_numbering": 1,
   "nav_menu": {},
   "number_sections": true,
   "sideBar": true,
   "skip_h1_title": false,
   "title_cell": "Table of Contents",
   "title_sidebar": "Contents",
   "toc_cell": false,
   "toc_position": {
    "height": "calc(100% - 180px)",
    "left": "10px",
    "top": "150px",
    "width": "165px"
   },
   "toc_section_display": true,
   "toc_window_display": true
  }
 },
 "nbformat": 4,
 "nbformat_minor": 4
}
