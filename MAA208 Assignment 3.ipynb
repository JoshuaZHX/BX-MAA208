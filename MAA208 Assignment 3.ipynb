{
 "cells": [
  {
   "cell_type": "code",
   "execution_count": 1,
   "metadata": {},
   "outputs": [],
   "source": [
    "import numpy as np\n",
    "import matplotlib.pyplot as plt\n",
    "import numpy.linalg as lin"
   ]
  },
  {
   "cell_type": "markdown",
   "metadata": {},
   "source": [
    "***Exercise 1:*** Theory: This part requires no implementation, you are allowed to write your answers on a different document (pdf, png, ...) if you are not confortable with markdown.\n",
    "\n",
    "Consider the matrix\n",
    "$$A = \\left(\\begin{array}{ccc}\n",
    "1 & 0 & 1 \\\\ 0 & 1 & 1 \\\\ -1 & 1 & 1\n",
    "\\end{array}\\right).$$"
   ]
  },
  {
   "cell_type": "markdown",
   "metadata": {},
   "source": [
    "**a)** Compute its characteristic polynomial."
   ]
  },
  {
   "cell_type": "markdown",
   "metadata": {},
   "source": [
    "**Answer:**  \n",
    "\n",
    "We compute that \n",
    "\\begin{align} \n",
    "    \\det{\\left( A - \\lambda I_3 \\right)} \n",
    "    &= \\begin{vmatrix} \n",
    "    1 - \\lambda & 0 & 1 \\\\ \n",
    "    0 & 1 - \\lambda & 1 \\\\ \n",
    "    -1 & 1 & 1 - \\lambda \n",
    "    \\end{vmatrix} \n",
    "    \\\\ \n",
    "    &= (1 - \\lambda) \\begin{vmatrix} \n",
    "        1 - \\lambda & 1 \\\\ \n",
    "        1 & 1 - \\lambda \n",
    "    \\end{vmatrix} - 1 \\begin{vmatrix} \n",
    "        0 & 1 \\\\ \n",
    "        1 - \\lambda & 1 \n",
    "    \\end{vmatrix} \n",
    "    \\\\ \n",
    "    &= (1 - \\lambda) \\left( (1 - \\lambda)^2 - 1 \\right) - \\left( 0 - (1 - \\lambda) \\right) \n",
    "    \\\\ \n",
    "    &= (1 - \\lambda)^3 - (1 - \\lambda) + (1 - \\lambda) \n",
    "    \\\\ \n",
    "    &= (1 - \\lambda)^3 \n",
    "\\end{align} \n",
    "\n",
    "Therefore, its characteristic polynomial is \n",
    "$$ (1 - \\lambda)^3 = 0 $$ "
   ]
  },
  {
   "cell_type": "markdown",
   "metadata": {},
   "source": [
    "**b)** Find the eigenvalue(s) of $A$ and the associated algebraic multiplicitie(s)?"
   ]
  },
  {
   "cell_type": "markdown",
   "metadata": {},
   "source": [
    "**Answer:** \n",
    "\n",
    "The eigenvalue of $A$ is $\\lambda = 1$ with algebraic multiplicity $m = 3$. "
   ]
  },
  {
   "cell_type": "markdown",
   "metadata": {},
   "source": [
    "**c)** Find all its eigenvectors and deduce the geometric multiplicitie(s) of the eigenvalue(s). "
   ]
  },
  {
   "cell_type": "markdown",
   "metadata": {},
   "source": [
    "**Answer:** \n",
    "\n",
    "We compute the eigenvector $v$ of $\\lambda = 1$. \n",
    "$$ \n",
    "Av = \\lambda v \n",
    "\\quad \\Longrightarrow \\quad \n",
    "\\begin{pmatrix} \n",
    "    1 & 0 & 1 \\\\ 0 & 1 & 1 \\\\ -1 & 1 & 1 \n",
    "\\end{pmatrix} \n",
    "\\begin{pmatrix} \n",
    "    v_1 \\\\ v_2 \\\\ v_3 \n",
    "\\end{pmatrix} \n",
    "= \\begin{pmatrix} \n",
    "    v_1 \\\\ v_2 \\\\ v_3 \n",
    "\\end{pmatrix} \n",
    "\\quad \\Longrightarrow \\quad \n",
    "\\begin{cases} \n",
    "    v_1 = v_2 \\\\ \n",
    "    v_3 = 0 \n",
    "\\end{cases} \n",
    "\\quad \\Longrightarrow \\quad \n",
    "v = \\begin{pmatrix} \n",
    "    1 \\\\ 1 \\\\ 0 \n",
    "\\end{pmatrix} \n",
    "$$ \n",
    "\n",
    "Hence, we can deduce that \n",
    "$$ \n",
    "\\text{ker} \\left( \\lambda I_3 - A \\right) = \n",
    "\\text{Span} \\begin{pmatrix} \n",
    "    1 \\\\ 1 \\\\ 0 \n",
    "\\end{pmatrix} \n",
    "\\quad \\Longrightarrow \\quad \n",
    "\\mu = \\dim \\text{ker} \\left( \\lambda I_3 - A \\right) = 1 \n",
    "$$ \n",
    "\n",
    "It means that there is only one linearly independent eigenvector associated to $\\lambda = 1$. Therefore, we can conclude that its geometric multiplicity is $\\mu = 1$. "
   ]
  },
  {
   "cell_type": "markdown",
   "metadata": {},
   "source": [
    "---\n",
    "---"
   ]
  },
  {
   "cell_type": "markdown",
   "metadata": {},
   "source": [
    "**Exercise 2:** Implementation:\n",
    "\n",
    "Consider the matrix \n",
    "$$B_\\epsilon = \\frac{1}{2}\\left( \\begin{array}{cc} \n",
    "\\frac{1}{\\epsilon} + \\epsilon & \\frac{1}{\\epsilon} - \\epsilon \\\\  \\frac{1}{\\epsilon} - \\epsilon & \\frac{1}{\\epsilon} + \\epsilon \\end{array}\\right),$$\n",
    "such that \n",
    "$$B_\\epsilon = PDiag\\left(\\epsilon,\\frac{1}{\\epsilon}\\right)P^{-1} \\quad \\text{with}\\quad P = \\left(\\begin{array}{cc} 1 & 1 \\\\ -1 & 1\\end{array}\\right),$$ \n",
    "and \n",
    "$$B_\\epsilon^{-1} = \\frac{1}{2}\\left( \\begin{array}{cc} \n",
    "\\epsilon+\\frac{1}{\\epsilon} & \\epsilon-\\frac{1}{\\epsilon} \\\\ \\epsilon-\\frac{1}{\\epsilon}& \\epsilon+\\frac{1}{\\epsilon} \\end{array}\\right) = P Diag\\left(\\frac{1}{\\epsilon}, \\epsilon\\right) P^{-1}.$$"
   ]
  },
  {
   "cell_type": "markdown",
   "metadata": {},
   "source": [
    "**a)** Implement Gauss-Seidel algorithm for solving systems of 2 linear equations with 2 unknowns, i.e. $BU = c$ with $B\\in\\mathbb{R}^{2\\times 2}$ and $c\\in\\mathbb{R}^2$. Test it with the given data.\n",
    "\n",
    "*Hint: Jacobi algorithm is given as an example. You may copy-paste it and modify it to obtain Gauss-Seidel algorithm.*"
   ]
  },
  {
   "cell_type": "code",
   "execution_count": 2,
   "metadata": {},
   "outputs": [],
   "source": [
    "def Jacobi(B, c, Uinit, kmax, TOL):\n",
    "    # solve the equation BU = c using the Jacobi method\n",
    "    if (len(c) != 2 or len(B[0,:]) != 2 or len(B[:,0]) != 2): \n",
    "        return \"size error\" \n",
    "    \n",
    "    U_new   = np.copy(Uinit) \n",
    "    epsilon = lin.norm(np.matmul(B,U_new) - c) \n",
    "    \n",
    "    k       = 0 \n",
    "    while (k < kmax) and (epsilon > TOL): \n",
    "        k +=1 \n",
    "        U = np.copy(U_new) \n",
    "        \n",
    "        U_new[0] = (c[0] - B[0,1] * U[1]) / B[0,0] \n",
    "        U_new[1] = (c[1] - B[1,0] * U[0]) / B[1,1] \n",
    "        \n",
    "        epsilon = lin.norm(np.matmul(B,U_new) - c) \n",
    "        \n",
    "    return U "
   ]
  },
  {
   "cell_type": "code",
   "execution_count": 3,
   "metadata": {},
   "outputs": [
    {
     "name": "stdout",
     "output_type": "stream",
     "text": [
      "Matrix\n",
      " [[ 50.005 -49.995]\n",
      " [-49.995  50.005]] \n",
      "\n",
      "Numerical solution\n",
      " [149.99432963 150.00432959] \n",
      "\n",
      "Residual\n",
      " [-4.45432397e-06 -8.95343783e-06]\n"
     ]
    }
   ],
   "source": [
    "eps    = 0.01\n",
    "Beps   = .5 * np.array([[eps+1/eps,eps-1/eps],[eps-1/eps,eps+1/eps]])\n",
    "c      = np.array([1.,2.])\n",
    "U_init = np.ones(2)\n",
    "k_max  = 10**5 \n",
    "TOL    = .00001\n",
    "\n",
    "U_sol = Jacobi(Beps, c, U_init, k_max, TOL)\n",
    "print(\"Matrix\\n\", Beps,\"\\n\")\n",
    "print(\"Numerical solution\\n\", U_sol,\"\\n\")\n",
    "print(\"Residual\\n\",np.matmul(Beps,U_sol)-c)"
   ]
  },
  {
   "cell_type": "code",
   "execution_count": 4,
   "metadata": {},
   "outputs": [],
   "source": [
    "def GS(B, c, Uinit, kmax, TOL):\n",
    "    # solve the equation BU = c using the Gauss-Seidel algorithm\n",
    "    if (len(c) != 2 or len(B[0,:]) != 2 or len(B[:,0]) != 2): \n",
    "        return \"size error\" \n",
    "    \n",
    "    U_new   = np.copy(Uinit) \n",
    "    epsilon = lin.norm(np.matmul(B,U_new) - c) \n",
    "    \n",
    "    k       = 0 \n",
    "    while (k < kmax) and (epsilon > TOL): \n",
    "        k +=1 \n",
    "        U = np.copy(U_new) \n",
    "        \n",
    "        U_new[0] = (c[0] - B[0,1] * U[1]) / B[0,0] \n",
    "        U_new[1] = (c[1] - B[1,0] * U_new[0]) / B[1,1] \n",
    "        \n",
    "        epsilon = lin.norm(np.matmul(B,U_new) - c) \n",
    "        \n",
    "    return U "
   ]
  },
  {
   "cell_type": "code",
   "execution_count": 5,
   "metadata": {},
   "outputs": [
    {
     "name": "stdout",
     "output_type": "stream",
     "text": [
      "Matrix\n",
      " [[ 50.005 -49.995]\n",
      " [-49.995  50.005]] \n",
      "\n",
      "Numerical solution\n",
      " [149.99449986 150.00449996] \n",
      "\n",
      "Residual\n",
      " [-1.00018224e-05  0.00000000e+00]\n"
     ]
    }
   ],
   "source": [
    "eps    = 0.01\n",
    "Beps   = .5* np.array([[eps+1/eps,eps-1/eps],[eps-1/eps,eps+1/eps]])\n",
    "c      = np.array([1.,2.])\n",
    "U_init = np.ones(2)\n",
    "k_max  = 10**5\n",
    "TOL    = .00001\n",
    "\n",
    "U_sol = GS(Beps, c, U_init, k_max, TOL)\n",
    "print(\"Matrix\\n\", Beps,\"\\n\")\n",
    "print(\"Numerical solution\\n\", U_sol,\"\\n\")\n",
    "print(\"Residual\\n\",np.matmul(Beps,U_sol)-c)"
   ]
  },
  {
   "cell_type": "markdown",
   "metadata": {},
   "source": [
    "**b)** Implement the alternating Gauss-Seidel algorithm. Test it with the same parameters. "
   ]
  },
  {
   "cell_type": "code",
   "execution_count": 6,
   "metadata": {},
   "outputs": [],
   "source": [
    "def GS_altern(B, c, Uinit, kmax, TOL):\n",
    "    # solve the equation BU = c using the alternating Gauss-Seidel algorithm\n",
    "    if (len(c) != 2 or len(B[0,:]) != 2 or len(B[:,0]) != 2): \n",
    "        return \"size error\" \n",
    "    \n",
    "    U_new   = np.copy(Uinit) \n",
    "    epsilon = lin.norm(np.matmul(B,U_new) - c) \n",
    "    \n",
    "    k       = 0 \n",
    "    while (k < kmax) and (epsilon > TOL): \n",
    "        k +=1 \n",
    "        U = np.copy(U_new) \n",
    "        \n",
    "        if (k % 2 == 0):  \n",
    "            U_new[1] = (c[1] - B[1,0] * U[0]) / B[1,1] \n",
    "            U_new[0] = (c[0] - B[0,1] * U_new[1]) / B[0,0] \n",
    "        else: \n",
    "            U_new[0] = (c[0] - B[0,1] * U[1]) / B[0,0] \n",
    "            U_new[1] = (c[1] - B[1,0] * U_new[0]) / B[1,1] \n",
    "        \n",
    "        epsilon = lin.norm(np.matmul(B,U_new) - c) \n",
    "        \n",
    "    return U"
   ]
  },
  {
   "cell_type": "code",
   "execution_count": 7,
   "metadata": {},
   "outputs": [
    {
     "name": "stdout",
     "output_type": "stream",
     "text": [
      "Matrix\n",
      " [[ 50.005 -49.995]\n",
      " [-49.995  50.005]] \n",
      "\n",
      "Numerical solution\n",
      " [149.99449986 150.00449996] \n",
      "\n",
      "Residual\n",
      " [-1.00018224e-05  0.00000000e+00]\n"
     ]
    }
   ],
   "source": [
    "eps    = 0.01\n",
    "Beps   = .5* np.array([[eps+1/eps,eps-1/eps],[eps-1/eps,eps+1/eps]])\n",
    "c      = np.array([1.,2.])\n",
    "U_init = np.ones(2)\n",
    "k_max  = 10**5\n",
    "TOL    = .00001\n",
    "\n",
    "U_sol = GS_altern(Beps, c, U_init, k_max, TOL)\n",
    "print(\"Matrix\\n\", Beps,\"\\n\")\n",
    "print(\"Numerical solution\\n\", U_sol,\"\\n\")\n",
    "print(\"Residual\\n\",np.matmul(Beps,U_sol)-c)"
   ]
  },
  {
   "cell_type": "markdown",
   "metadata": {},
   "source": [
    "**c)** Compute the exact solution of this problem and compare it with these numerical solutions. Interprete the differences. \n",
    "\n",
    "*Hint: You may play with the different parameters of the numerical methods to analyze them.*"
   ]
  },
  {
   "cell_type": "markdown",
   "metadata": {},
   "source": [
    "**Answer:** \n",
    "\n",
    "We compute the exact solution of this problem. \n",
    "\\begin{align} \n",
    "BU = c \n",
    "\\quad &\\Longrightarrow \\quad \n",
    "\\begin{pmatrix} \n",
    "    50.005 & -49.995 \\\\ -49.995 & 50.005 \n",
    "\\end{pmatrix} \n",
    "\\begin{pmatrix} \n",
    "    U_1 \\\\ U_2 \n",
    "\\end{pmatrix} = \n",
    "\\begin{pmatrix} \n",
    "    1 \\\\ 2\n",
    "\\end{pmatrix} \n",
    "\\\\ \n",
    "\\quad &\\Longrightarrow \\quad \n",
    "\\begin{cases} \n",
    "    (50 + 0.005) U_1 - (50 - 0.005) U_2 = 1 \\\\ \n",
    "    - (50 - 0.005) U_1 + (50 + 0.005) U_2 = 2 \n",
    "\\end{cases} \n",
    "\\end{align}\n",
    "\n",
    "Adding both equations together, we obtain that \n",
    "$$ \n",
    "0.01 U_1 + 0.01 U_2 = 3 \\quad \\Longrightarrow \\quad U_1 + U_2 = 300 \n",
    "$$ \n",
    "\n",
    "Substituting $U_2 = 300 - U_1$, we obtain that \n",
    "$$ \n",
    "(50 + 0.005) U_1 - (50 - 0.005)(300 - U_1) = 1 \n",
    "\\quad \\Longrightarrow \\quad \n",
    "100 U_1 = 14999.5 \n",
    "$$ \n",
    "\n",
    "Therefore, the exact solution is \n",
    "$$ \n",
    "\\begin{cases} \n",
    "    U_1 = 149.995 \\\\ \n",
    "    U_2 = 150.005 \n",
    "\\end{cases} \n",
    "$$ \n",
    "\n",
    "By comparing the numerical solutions to the exact solutions, we see that none of the algorithm converges to the exact solutions due to a small $k_{max}$ value as well as a high tolerence value. Thus, by setting $k_{max} = 10^5$ instead of $100$, we see that all three algorithm converge to the exact value. Similarly, we can observe the same effect by setting $TOL = 0.00001$ instead of $0.001$. "
   ]
  },
  {
   "cell_type": "code",
   "execution_count": null,
   "metadata": {},
   "outputs": [],
   "source": []
  }
 ],
 "metadata": {
  "kernelspec": {
   "display_name": "Python 3",
   "language": "python",
   "name": "python3"
  },
  "language_info": {
   "codemirror_mode": {
    "name": "ipython",
    "version": 3
   },
   "file_extension": ".py",
   "mimetype": "text/x-python",
   "name": "python",
   "nbconvert_exporter": "python",
   "pygments_lexer": "ipython3",
   "version": "3.7.3"
  },
  "toc": {
   "base_numbering": 1,
   "nav_menu": {},
   "number_sections": true,
   "sideBar": true,
   "skip_h1_title": false,
   "title_cell": "Table of Contents",
   "title_sidebar": "Contents",
   "toc_cell": false,
   "toc_position": {
    "height": "calc(100% - 180px)",
    "left": "10px",
    "top": "150px",
    "width": "165px"
   },
   "toc_section_display": true,
   "toc_window_display": true
  }
 },
 "nbformat": 4,
 "nbformat_minor": 4
}
