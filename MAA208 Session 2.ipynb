{
 "cells": [
  {
   "cell_type": "markdown",
   "metadata": {},
   "source": [
    "# Triangular systems and Newton interpolation"
   ]
  },
  {
   "cell_type": "code",
   "execution_count": null,
   "metadata": {},
   "outputs": [],
   "source": [
    "# load\n",
    "import numpy as np\n",
    "import matplotlib.pyplot as plt"
   ]
  },
  {
   "cell_type": "markdown",
   "metadata": {},
   "source": [
    "We aim here to contruct a numerical method for computing monovariate interpolation polynomials based on an arbitrarily high number of points.  "
   ]
  },
  {
   "cell_type": "markdown",
   "metadata": {},
   "source": [
    "## Construction of the polynomials\n",
    "\n",
    "We aim to construct numerically an interpolation polynomial $P_N$ mapping points $\\mathbf{x} = (x_0, ..., x_N)^T$ onto $\\mathbf{y} = (y_0, ..., y_N)^T$, i.e. such that $P_N(x_i)=y_i$. For a given basis of polynomials $\\mathbf{b}(x) = (b_0(x),..., b_N(x))^T$, we are looking for the coefficients $\\mathbf{c} = (c_0, ..., c_N)^T$ s.t. $P_N = \\sum\\limits_{i=0}^N c_i b_i$. The vector $\\mathbf{c}$ satisfy a linear problem of the form $A \\mathbf{c} = \\mathbf{y}.$ \n",
    "\n",
    "1) Write down the entries of the matrix $A$ in terms of the basis $\\mathbf{b}$ and of the positions $\\mathbf{x}$."
   ]
  },
  {
   "cell_type": "markdown",
   "metadata": {},
   "source": [
    "Answer:"
   ]
  },
  {
   "cell_type": "markdown",
   "metadata": {},
   "source": [
    "### Monomial interpolation"
   ]
  },
  {
   "cell_type": "markdown",
   "metadata": {},
   "source": [
    "2) Write down the entries of the matrix $A$ in the case of the canonical basis $\\mathbf{m}(x) = (1, x, ..., x^N)^T$. Is the computation of $\\mathbf{c}$ straightforward?"
   ]
  },
  {
   "cell_type": "markdown",
   "metadata": {},
   "source": [
    "Answer:"
   ]
  },
  {
   "cell_type": "markdown",
   "metadata": {},
   "source": [
    "### Lagrange interpolation\n",
    "3) Recall the Lagrange polynomial basis $\\mathbf{b} = \\mathbf{l} = (l_1, ..., l_N)^T$ associated with the points $\\mathbf{x}$. Write down the matrix $A$ in this case."
   ]
  },
  {
   "cell_type": "markdown",
   "metadata": {},
   "source": [
    " Answer:"
   ]
  },
  {
   "cell_type": "markdown",
   "metadata": {},
   "source": [
    "4) Try to add one new point $(x_{N+1},y_{N+1})$. Can you easily express the new interpolation polynomial $P_{N+1}$ based on the previous one $P_N$?"
   ]
  },
  {
   "cell_type": "markdown",
   "metadata": {},
   "source": [
    "Answer:  "
   ]
  },
  {
   "cell_type": "markdown",
   "metadata": {},
   "source": [
    "### Newton interpolation\n",
    "5) Newton suggested not to work with Lagrange basis functions, but with a basis of polynomials $\\mathbf{b} = \\mathbf{N} = (N_0, N_1, \\dots, N_N)^T$ of the form \\begin{align*} N_0(x) = 1, \\qquad  N_i(x) := \\prod_{j=0}^{i-1} (x-x_j). \\end{align*}\n",
    "Write down the matrix $A$ in the case of Newton's basis. "
   ]
  },
  {
   "cell_type": "markdown",
   "metadata": {},
   "source": [
    "Answer:"
   ]
  },
  {
   "cell_type": "markdown",
   "metadata": {},
   "source": [
    "6) Express $P_{N+1}$ as a function of $P_N$, $x_0,...,x_{N+1}$ and $y_{N+1}$? "
   ]
  },
  {
   "cell_type": "markdown",
   "metadata": {},
   "source": [
    "  Answer:"
   ]
  },
  {
   "cell_type": "markdown",
   "metadata": {},
   "source": [
    "7)  What property does $A$ satisfy ?"
   ]
  },
  {
   "cell_type": "markdown",
   "metadata": {},
   "source": [
    "  Answer:"
   ]
  },
  {
   "cell_type": "markdown",
   "metadata": {},
   "source": [
    "# Solving linear problem"
   ]
  },
  {
   "cell_type": "markdown",
   "metadata": {},
   "source": [
    "1) Implement the forward substitution algorithm for solving the problem $Lv=b$ with lower triangular matrix $L$. Implement also the back substitution algorithm for $Uv=b$ with upper triangular matrix $U$."
   ]
  },
  {
   "cell_type": "code",
   "execution_count": null,
   "metadata": {},
   "outputs": [],
   "source": [
    "def forward_substitution(L,b):\n",
    "    v = np.ones(len(b))\n",
    "    # complete code\n",
    "    \n",
    "    return v\n",
    "    \n",
    "def back_substitution(U,b):\n",
    "    v = np.ones(len(b))\n",
    "    # complete code\n",
    "    \n",
    "    return v\n",
    "\n",
    "\n",
    "L    = np.array([[1,0,0],[2,2,0],[3,5,1]])\n",
    "b1   = np.array([1,2,4])\n",
    "sol1 = forward_substitution(L,b1)\n",
    "print(\"solution V = \", sol1)\n",
    "print(\"L V = \", np.matmul(L,sol1), \"  b = \", b1)\n",
    "print(\"\")\n",
    "\n",
    "U    = np.array([[5,1,3],[0,2,1],[0,0,1]])\n",
    "b2   = np.array([3,2,1])\n",
    "sol2 = back_substitution(U,b2)\n",
    "print(\"solution V = \", sol2)\n",
    "print(\"U V = \", np.matmul(U,sol2), \"  b = \", b2)"
   ]
  },
  {
   "cell_type": "markdown",
   "metadata": {},
   "source": [
    "2) Use this algorithm to compute interpolation polynomials based on an arbitrary number of points."
   ]
  },
  {
   "cell_type": "code",
   "execution_count": null,
   "metadata": {},
   "outputs": [],
   "source": [
    "def compute_coeff_Newton(vect_x, vect_y):\n",
    "    coeff = np.ones(len(vect_y))\n",
    "    # complete code\n",
    "     \n",
    "    return coeff\n",
    "    \n",
    "def interpolation_polynomial(x, coeff, vect_x):\n",
    "    val = np.ones(len(x))\n",
    "    # complete code\n",
    "    \n",
    "    return val\n",
    "\n",
    "\n",
    "vect_x = np.linspace(0, 2, 10)\n",
    "vect_y = np.exp(-2 * vect_x**2 + 5. * vect_x)\n",
    "\n",
    "coeff_interp  = compute_coeff_Newton(vect_x, vect_y)\n",
    "\n",
    "\n",
    "vect_x_plot = np.linspace(0, 2, 200)\n",
    "vect_y_plot = np.exp(-2 * vect_x_plot**2 + 5. * vect_x_plot)\n",
    "vect_y_interp = interpolation_polynomial(vect_x_plot, coeff_interp, vect_x)\n",
    "\n",
    "\n",
    "plt.figure(1)\n",
    "plt.plot(vect_x_plot, vect_y_plot        , color='red',  label=\"Exact\")\n",
    "plt.plot(vect_x_plot, vect_y_interp, '--', color='blue', label=\"Your interpolation\")\n",
    "plt.legend()\n",
    "plt.show()"
   ]
  },
  {
   "cell_type": "markdown",
   "metadata": {},
   "source": [
    "3) Compare the number of operations required to compute this interpolation polynomials in Lagrange and in Newton's basis. What are the advantages and drawbacks of both methods?"
   ]
  },
  {
   "cell_type": "markdown",
   "metadata": {},
   "source": [
    "Answer: "
   ]
  },
  {
   "cell_type": "markdown",
   "metadata": {},
   "source": [
    "4) Can you modify the basis polynomials $N_i$ in order to keep the determinant of $A$ independant of $N$.\n",
    "Can you propose other basis to reduce the number of operations? "
   ]
  },
  {
   "cell_type": "markdown",
   "metadata": {},
   "source": [
    "Answer:"
   ]
  },
  {
   "cell_type": "markdown",
   "metadata": {},
   "source": [
    "5) For triangular matrices, the condition number is defined as $Cond(A) = \\left(\\max\\limits_i |A_{i,i}|\\right) \\left(\\max\\limits_i \\frac{1}{|A_{i,i}|}\\right)$. Compute the condition number for the Newton interpolation matrix. Play with diagonal coefficients $A_{i,i}$ and write an interpretation of the influence of the condition number on the result of the present algorithm. What is the other advantage of the choice of question 4?"
   ]
  },
  {
   "cell_type": "code",
   "execution_count": null,
   "metadata": {},
   "outputs": [],
   "source": []
  }
 ],
 "metadata": {
  "kernelspec": {
   "display_name": "Python 3",
   "language": "python",
   "name": "python3"
  },
  "language_info": {
   "codemirror_mode": {
    "name": "ipython",
    "version": 3
   },
   "file_extension": ".py",
   "mimetype": "text/x-python",
   "name": "python",
   "nbconvert_exporter": "python",
   "pygments_lexer": "ipython3",
   "version": "3.7.3"
  },
  "latex_envs": {
   "LaTeX_envs_menu_present": true,
   "autoclose": false,
   "autocomplete": true,
   "bibliofile": "biblio.bib",
   "cite_by": "apalike",
   "current_citInitial": 1,
   "eqLabelWithNumbers": true,
   "eqNumInitial": 1,
   "hotkeys": {
    "equation": "Ctrl-E",
    "itemize": "Ctrl-I"
   },
   "labels_anchors": false,
   "latex_user_defs": false,
   "report_style_numbering": false,
   "user_envs_cfg": false
  },
  "toc": {
   "base_numbering": 1,
   "nav_menu": {},
   "number_sections": true,
   "sideBar": true,
   "skip_h1_title": false,
   "title_cell": "Table of Contents",
   "title_sidebar": "Contents",
   "toc_cell": false,
   "toc_position": {},
   "toc_section_display": true,
   "toc_window_display": false
  }
 },
 "nbformat": 4,
 "nbformat_minor": 2
}
